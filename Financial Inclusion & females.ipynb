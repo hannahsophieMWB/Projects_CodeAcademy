{
 "cells": [
  {
   "cell_type": "code",
   "execution_count": 1,
   "id": "verified-license",
   "metadata": {},
   "outputs": [],
   "source": [
    "# Questions\n",
    "\n",
    "# Goal: Maximize financial inclusion for females to achieve gender equality through digital technology.\n",
    "\n",
    "# 1. How has financial access developed over the years 2011- 2017?\n",
    "# 2. How many adults lack a financial account in 2017? What is the distribution across gender and age?\n",
    "# 3. How many females without an account have a mobile phone?\n",
    "# 4. How many females without an account and a mobile phone have received payments (salaries) in cash?\n",
    "# 5. How many females without an account pay their bills in cash?\n"
   ]
  },
  {
   "cell_type": "code",
   "execution_count": 2,
   "id": "color-billy",
   "metadata": {},
   "outputs": [],
   "source": [
    "# Libraries"
   ]
  },
  {
   "cell_type": "code",
   "execution_count": 3,
   "id": "fallen-azerbaijan",
   "metadata": {},
   "outputs": [
    {
     "name": "stdout",
     "output_type": "stream",
     "text": [
      "/usr/local/opt/python@3.9/bin/python3.9\n"
     ]
    }
   ],
   "source": [
    " import sys\n",
    " print(sys.executable) \n",
    "\n",
    "# import the libraries via terminal \n"
   ]
  },
  {
   "cell_type": "code",
   "execution_count": 15,
   "id": "infrared-rainbow",
   "metadata": {},
   "outputs": [
    {
     "ename": "ModuleNotFoundError",
     "evalue": "No module named 'earthpy'",
     "output_type": "error",
     "traceback": [
      "\u001b[0;31m---------------------------------------------------------------------------\u001b[0m",
      "\u001b[0;31mModuleNotFoundError\u001b[0m                       Traceback (most recent call last)",
      "\u001b[0;32m<ipython-input-15-8197d9d59d44>\u001b[0m in \u001b[0;36m<module>\u001b[0;34m\u001b[0m\n\u001b[1;32m      3\u001b[0m \u001b[0;32mimport\u001b[0m \u001b[0mos\u001b[0m\u001b[0;34m\u001b[0m\u001b[0;34m\u001b[0m\u001b[0m\n\u001b[1;32m      4\u001b[0m \u001b[0;34m\u001b[0m\u001b[0m\n\u001b[0;32m----> 5\u001b[0;31m \u001b[0;32mimport\u001b[0m \u001b[0mearthpy\u001b[0m \u001b[0;32mas\u001b[0m \u001b[0met\u001b[0m\u001b[0;34m\u001b[0m\u001b[0;34m\u001b[0m\u001b[0m\n\u001b[0m",
      "\u001b[0;31mModuleNotFoundError\u001b[0m: No module named 'earthpy'"
     ]
    }
   ],
   "source": [
    "import pandas as pd\n",
    "import numpy as np\n",
    "import os\n",
    "import matplotlib.pyplot as plt\n",
    "import seaborn as sns\n",
    "import earthpy as et\n"
   ]
  },
  {
   "cell_type": "code",
   "execution_count": 5,
   "id": "acting-spain",
   "metadata": {},
   "outputs": [],
   "source": [
    "# import csv file\n",
    "path = \"/Users/user/Python/Python projects/FINDEX_CSV/FINDEXData.csv\"\n",
    "\n",
    "data = pd.read_csv(path)"
   ]
  },
  {
   "cell_type": "code",
   "execution_count": 6,
   "id": "practical-sydney",
   "metadata": {},
   "outputs": [
    {
     "data": {
      "text/html": [
       "<div>\n",
       "<style scoped>\n",
       "    .dataframe tbody tr th:only-of-type {\n",
       "        vertical-align: middle;\n",
       "    }\n",
       "\n",
       "    .dataframe tbody tr th {\n",
       "        vertical-align: top;\n",
       "    }\n",
       "\n",
       "    .dataframe thead th {\n",
       "        text-align: right;\n",
       "    }\n",
       "</style>\n",
       "<table border=\"1\" class=\"dataframe\">\n",
       "  <thead>\n",
       "    <tr style=\"text-align: right;\">\n",
       "      <th></th>\n",
       "      <th>Country Name</th>\n",
       "      <th>Country Code</th>\n",
       "      <th>Indicator Name</th>\n",
       "      <th>Indicator Code</th>\n",
       "      <th>2011</th>\n",
       "      <th>2014</th>\n",
       "      <th>2017</th>\n",
       "      <th>Unnamed: 7</th>\n",
       "    </tr>\n",
       "  </thead>\n",
       "  <tbody>\n",
       "    <tr>\n",
       "      <th>0</th>\n",
       "      <td>Central America (excluding high income)</td>\n",
       "      <td>CAM</td>\n",
       "      <td>Account (% age 15+)</td>\n",
       "      <td>account.t.d</td>\n",
       "      <td>NaN</td>\n",
       "      <td>NaN</td>\n",
       "      <td>NaN</td>\n",
       "      <td>NaN</td>\n",
       "    </tr>\n",
       "    <tr>\n",
       "      <th>1</th>\n",
       "      <td>Central America (excluding high income)</td>\n",
       "      <td>CAM</td>\n",
       "      <td>Account, female (% age 15+)</td>\n",
       "      <td>account.t.d.2</td>\n",
       "      <td>NaN</td>\n",
       "      <td>NaN</td>\n",
       "      <td>NaN</td>\n",
       "      <td>NaN</td>\n",
       "    </tr>\n",
       "    <tr>\n",
       "      <th>2</th>\n",
       "      <td>Central America (excluding high income)</td>\n",
       "      <td>CAM</td>\n",
       "      <td>Account, in labor force (% age 15+)</td>\n",
       "      <td>account.t.d.10</td>\n",
       "      <td>NaN</td>\n",
       "      <td>NaN</td>\n",
       "      <td>NaN</td>\n",
       "      <td>NaN</td>\n",
       "    </tr>\n",
       "    <tr>\n",
       "      <th>3</th>\n",
       "      <td>Central America (excluding high income)</td>\n",
       "      <td>CAM</td>\n",
       "      <td>Account, income, poorest 40% (% ages 15+)</td>\n",
       "      <td>account.t.d.7</td>\n",
       "      <td>NaN</td>\n",
       "      <td>NaN</td>\n",
       "      <td>NaN</td>\n",
       "      <td>NaN</td>\n",
       "    </tr>\n",
       "    <tr>\n",
       "      <th>4</th>\n",
       "      <td>Central America (excluding high income)</td>\n",
       "      <td>CAM</td>\n",
       "      <td>Account, income, richest 60% (% ages 15+)</td>\n",
       "      <td>account.t.d.8</td>\n",
       "      <td>NaN</td>\n",
       "      <td>NaN</td>\n",
       "      <td>NaN</td>\n",
       "      <td>NaN</td>\n",
       "    </tr>\n",
       "  </tbody>\n",
       "</table>\n",
       "</div>"
      ],
      "text/plain": [
       "                              Country Name Country Code  \\\n",
       "0  Central America (excluding high income)          CAM   \n",
       "1  Central America (excluding high income)          CAM   \n",
       "2  Central America (excluding high income)          CAM   \n",
       "3  Central America (excluding high income)          CAM   \n",
       "4  Central America (excluding high income)          CAM   \n",
       "\n",
       "                              Indicator Name  Indicator Code  2011  2014  \\\n",
       "0                        Account (% age 15+)     account.t.d   NaN   NaN   \n",
       "1                Account, female (% age 15+)   account.t.d.2   NaN   NaN   \n",
       "2        Account, in labor force (% age 15+)  account.t.d.10   NaN   NaN   \n",
       "3  Account, income, poorest 40% (% ages 15+)   account.t.d.7   NaN   NaN   \n",
       "4  Account, income, richest 60% (% ages 15+)   account.t.d.8   NaN   NaN   \n",
       "\n",
       "   2017  Unnamed: 7  \n",
       "0   NaN         NaN  \n",
       "1   NaN         NaN  \n",
       "2   NaN         NaN  \n",
       "3   NaN         NaN  \n",
       "4   NaN         NaN  "
      ]
     },
     "execution_count": 6,
     "metadata": {},
     "output_type": "execute_result"
    }
   ],
   "source": [
    "# let's check the headers\n",
    "data_top = data.head() \n",
    "data_top"
   ]
  },
  {
   "cell_type": "code",
   "execution_count": 7,
   "id": "digital-portable",
   "metadata": {},
   "outputs": [
    {
     "name": "stdout",
     "output_type": "stream",
     "text": [
      "0   NaN\n",
      "1   NaN\n",
      "2   NaN\n",
      "3   NaN\n",
      "4   NaN\n",
      "Name: 2011, dtype: float64\n"
     ]
    }
   ],
   "source": [
    "# let's check the particulat columns\n",
    "print(data_top['2011'].head(10))\n",
    "\n",
    "# seems like many missing values"
   ]
  },
  {
   "cell_type": "code",
   "execution_count": 8,
   "id": "broke-sponsorship",
   "metadata": {},
   "outputs": [
    {
     "name": "stdout",
     "output_type": "stream",
     "text": [
      "0   NaN\n",
      "1   NaN\n",
      "2   NaN\n",
      "3   NaN\n",
      "4   NaN\n",
      "5   NaN\n",
      "6   NaN\n",
      "7   NaN\n",
      "8   NaN\n",
      "9   NaN\n",
      "Name: 2011, dtype: float64\n",
      "Country Name           0\n",
      "Country Code           0\n",
      "Indicator Name         0\n",
      "Indicator Code         0\n",
      "2011              123142\n",
      "2014               54774\n",
      "2017               37407\n",
      "Unnamed: 7        142008\n",
      "dtype: int64\n"
     ]
    }
   ],
   "source": [
    "# dealing with missing values in our dataset\n",
    "\n",
    "# a list with all missing value formats\n",
    "missing_value_formats = [\"n.a.\",\"?\",\"NA\",\"n/a\", \"na\", \"--\"]\n",
    "data = pd.read_csv(path, na_values = missing_value_formats)\n",
    "\n",
    "#print 2011 again\n",
    "print(data['2011'].head(10))\n",
    "\n",
    "# Total number of missing values per column\n",
    "print(data.isnull().sum())\n",
    "\n",
    "# .. quite many"
   ]
  },
  {
   "cell_type": "code",
   "execution_count": 13,
   "id": "historic-mount",
   "metadata": {},
   "outputs": [
    {
     "name": "stdout",
     "output_type": "stream",
     "text": [
      "Old data frame length: 142008 \n",
      "New data frame length: 13276 \n",
      "Number of rows with at least 1 NA value:  128732\n"
     ]
    }
   ],
   "source": [
    "# Let's remove rows with missing values\n",
    "\n",
    "# making new data frame with dropped NA values for the year indicators\n",
    "new_data = data.dropna(subset=['2011', '2014', '2017'])\n",
    "  \n",
    "# comparing sizes of data frames\n",
    "print(\"Old data frame length:\", len(data), \"\\nNew data frame length:\", \n",
    "       len(new_data), \"\\nNumber of rows with at least 1 NA value: \",\n",
    "       (len(data)-len(new_data)))"
   ]
  },
  {
   "cell_type": "code",
   "execution_count": 11,
   "id": "saving-crack",
   "metadata": {},
   "outputs": [
    {
     "name": "stdout",
     "output_type": "stream",
     "text": [
      "Series([], Name: 2011, dtype: float64)\n"
     ]
    }
   ],
   "source": [
    "print(\"Dataframe shape: \", new_data.shape)\n",
    "dt = (new_dat.index[-1] - df.index[0])\n",
    "print(\"Number of hours between start and end dates: \", dt.total_seconds()/3600 + 1)"
   ]
  },
  {
   "cell_type": "code",
   "execution_count": null,
   "id": "certified-florist",
   "metadata": {},
   "outputs": [],
   "source": []
  }
 ],
 "metadata": {
  "kernelspec": {
   "display_name": "Python 3",
   "language": "python",
   "name": "python3"
  },
  "language_info": {
   "codemirror_mode": {
    "name": "ipython",
    "version": 3
   },
   "file_extension": ".py",
   "mimetype": "text/x-python",
   "name": "python",
   "nbconvert_exporter": "python",
   "pygments_lexer": "ipython3",
   "version": "3.9.1"
  }
 },
 "nbformat": 4,
 "nbformat_minor": 5
}
