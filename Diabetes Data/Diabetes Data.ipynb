{
 "cells": [
  {
   "cell_type": "markdown",
   "metadata": {},
   "source": [
    "## EDA: Diagnosing Diabetes\n",
    "In this project, you’ll imagine you are a data scientist interested in exploring data that looks at how certain diagnostic factors affect the diabetes outcome of women patients.\n",
    "\n",
    "You will use your EDA skills to help inspect, clean, and validate the data.\n",
    "\n",
    "Note: This dataset is from the National Institute of Diabetes and Digestive and Kidney Diseases. It contains the following columns:\n",
    "\n",
    "Pregnancies: Number of times pregnant\n",
    "Glucose: Plasma glucose concentration a 2 hours in an oral glucose tolerance test\n",
    "BloodPressure: Diastolic blood pressure\n",
    "SkinThickness: Triceps skinfold thickness\n",
    "Insulin: 2-Hour serum insulin\n",
    "BMI: Body mass index\n",
    "DiabetesPedigreeFunction: Diabetes pedigree function\n",
    "Age: Age (years)\n",
    "Outcome: Class variable (0 or 1)\n",
    "Let’s get started!\n"
   ]
  },
  {
   "cell_type": "markdown",
   "metadata": {},
   "source": [
    "\n",
    "## Initial Inspection\n",
    "1. First, familiarize yourself with the dataset here.\n",
    "Look at each of the nine columns in the documentation.\n",
    "What do you expect each data type to be?\n",
    "\n",
    "2. Next, let’s load in the diabetes data to start exploring.\n",
    "Load the data in a variable called diabetes_data and print the first few rows.\n",
    "Note: The data is stored in a file called diabetes.csv.\n",
    "\n",
    "\n"
   ]
  },
  {
   "cell_type": "code",
   "execution_count": 27,
   "metadata": {},
   "outputs": [],
   "source": [
    "import pandas as pd\n",
    "import numpy as np\n",
    "import matplotlib.pyplot as plt\n",
    "import seaborn as sns # note that codeacademy uses 'codecademylib3_seaborn' which is basically the same\n",
    "import glob\n",
    "from scipy import stats\n"
   ]
  },
  {
   "cell_type": "code",
   "execution_count": 6,
   "metadata": {},
   "outputs": [
    {
     "name": "stdout",
     "output_type": "stream",
     "text": [
      "             Glucose  BloodPressure  SkinThickness  Insulin   BMI  \\\n",
      "Pregnancies                                                         \n",
      "6                148             72             35        0  33.6   \n",
      "1                 85             66             29        0  26.6   \n",
      "8                183             64              0        0  23.3   \n",
      "1                 89             66             23       94  28.1   \n",
      "0                137             40             35      168  43.1   \n",
      "\n",
      "             DiabetesPedigreeFunction  Age  Outcome  \n",
      "Pregnancies                                          \n",
      "6                               0.627   50        1  \n",
      "1                               0.351   31        0  \n",
      "8                               0.672   32        1  \n",
      "1                               0.167   21        0  \n",
      "0                               2.288   33        1  \n",
      "Glucose                       int64\n",
      "BloodPressure                 int64\n",
      "SkinThickness                 int64\n",
      "Insulin                       int64\n",
      "BMI                         float64\n",
      "DiabetesPedigreeFunction    float64\n",
      "Age                           int64\n",
      "Outcome                       int64\n",
      "dtype: object\n"
     ]
    }
   ],
   "source": [
    "\n",
    "## Make a dataframe\n",
    "diabetes_data = pd.read_csv(\"/Users/user/Projects_CodeAcademy/Diabetes Data/diabetes.csv\", index_col = 0) \n",
    "\n",
    "print(diabetes_data.head())\n",
    "print(diabetes_data.dtypes)\n"
   ]
  },
  {
   "cell_type": "markdown",
   "metadata": {},
   "source": [
    "3. How many columns (features) does the data contain?\n",
    "4. How many rows (observations) does the data contain?\n"
   ]
  },
  {
   "cell_type": "code",
   "execution_count": 10,
   "metadata": {},
   "outputs": [
    {
     "name": "stdout",
     "output_type": "stream",
     "text": [
      "<class 'pandas.core.frame.DataFrame'>\n",
      "Int64Index: 768 entries, 6 to 1\n",
      "Data columns (total 8 columns):\n",
      " #   Column                    Non-Null Count  Dtype  \n",
      "---  ------                    --------------  -----  \n",
      " 0   Glucose                   768 non-null    int64  \n",
      " 1   BloodPressure             768 non-null    int64  \n",
      " 2   SkinThickness             768 non-null    int64  \n",
      " 3   Insulin                   768 non-null    int64  \n",
      " 4   BMI                       768 non-null    float64\n",
      " 5   DiabetesPedigreeFunction  768 non-null    float64\n",
      " 6   Age                       768 non-null    int64  \n",
      " 7   Outcome                   768 non-null    int64  \n",
      "dtypes: float64(2), int64(6)\n",
      "memory usage: 54.0 KB\n",
      "None\n"
     ]
    }
   ],
   "source": [
    "print(diabetes_data.info()) # 8 columns, 768 observations\n"
   ]
  },
  {
   "cell_type": "markdown",
   "metadata": {},
   "source": [
    "5. Let’s inspect diabetes_data further.\n",
    "Do any of the columns in the data contain null (missing) values?\n"
   ]
  },
  {
   "cell_type": "code",
   "execution_count": 11,
   "metadata": {},
   "outputs": [
    {
     "name": "stdout",
     "output_type": "stream",
     "text": [
      "Glucose                     0\n",
      "BloodPressure               0\n",
      "SkinThickness               0\n",
      "Insulin                     0\n",
      "BMI                         0\n",
      "DiabetesPedigreeFunction    0\n",
      "Age                         0\n",
      "Outcome                     0\n",
      "dtype: int64\n"
     ]
    }
   ],
   "source": [
    "print(diabetes_data.isna().sum()) # no missings"
   ]
  },
  {
   "cell_type": "markdown",
   "metadata": {},
   "source": [
    "6. If you answered no to the question above, not so fast!\n",
    "\n",
    "While it’s technically true that none of the columns contain null values, that doesn’t necessarily mean that the data isn’t missing any values.\n",
    "When exploring data, you should always question your assumptions and try to dig deeper.\n",
    "To investigate further, calculate summary statistics on diabates_data using the .describe() method."
   ]
  },
  {
   "cell_type": "code",
   "execution_count": 17,
   "metadata": {},
   "outputs": [
    {
     "name": "stdout",
     "output_type": "stream",
     "text": [
      "          Glucose  BloodPressure  SkinThickness     Insulin         BMI  \\\n",
      "count  768.000000     768.000000     768.000000  768.000000  768.000000   \n",
      "mean   120.894531      69.105469      20.536458   79.799479   31.992578   \n",
      "std     31.972618      19.355807      15.952218  115.244002    7.884160   \n",
      "min      0.000000       0.000000       0.000000    0.000000    0.000000   \n",
      "25%     99.000000      62.000000       0.000000    0.000000   27.300000   \n",
      "50%    117.000000      72.000000      23.000000   30.500000   32.000000   \n",
      "75%    140.250000      80.000000      32.000000  127.250000   36.600000   \n",
      "max    199.000000     122.000000      99.000000  846.000000   67.100000   \n",
      "\n",
      "       DiabetesPedigreeFunction         Age     Outcome  \n",
      "count                768.000000  768.000000  768.000000  \n",
      "mean                   0.471876   33.240885    0.348958  \n",
      "std                    0.331329   11.760232    0.476951  \n",
      "min                    0.078000   21.000000    0.000000  \n",
      "25%                    0.243750   24.000000    0.000000  \n",
      "50%                    0.372500   29.000000    0.000000  \n",
      "75%                    0.626250   41.000000    1.000000  \n",
      "max                    2.420000   81.000000    1.000000  \n"
     ]
    }
   ],
   "source": [
    "print(diabetes_data.describe()) "
   ]
  },
  {
   "cell_type": "markdown",
   "metadata": {},
   "source": [
    "7. Looking at the summary statistics, do you notice anything odd about the following columns?\n",
    "\n",
    "Glucose\n",
    "BloodPressure\n",
    "SkinThickness\n",
    "Insulin\n",
    "BMI\n",
    "\n",
    "-: Standard deviation is very high for Glocose, Blood pressure, Insulin, and skin thickness which indicates the population sample is very mixed as the members of this sample differ from the mean value for the sample.\n",
    "-: The further, the min values of 0 indicate that we might have missing info which is indicated as 0 since no human can have 0 blood pressure\n",
    "    \n"
   ]
  },
  {
   "cell_type": "markdown",
   "metadata": {},
   "source": [
    "8. Do you spot any other outliers in the data?"
   ]
  },
  {
   "cell_type": "code",
   "execution_count": 28,
   "metadata": {},
   "outputs": [
    {
     "data": {
      "text/plain": [
       "<AxesSubplot:>"
      ]
     },
     "execution_count": 28,
     "metadata": {},
     "output_type": "execute_result"
    },
    {
     "data": {
      "image/png": "[encoded data removed]",
      "text/plain": [
       "<Figure size 432x288 with 1 Axes>"
      ]
     },
     "metadata": {
      "needs_background": "light"
     },
     "output_type": "display_data"
    }
   ],
   "source": [
    "# Calculate quantiles \n",
    "\n",
    "Q1 = diabetes_data.quantile(0.25)\n",
    "Q3 = diabetes_data.quantile(0.75)\n",
    "IQR = Q3 - Q1\n",
    "\n",
    "((diabetes_data < (Q1 - 1.5 * IQR)) | (diabetes_data > (Q3 + 1.5 * IQR))).sum() # Gives the number of outliers \n",
    "\n",
    "# We can also visualize it in a boxplot\n",
    "\n",
    "sns.boxplot(data=diabetes_data)"
   ]
  },
  {
   "cell_type": "code",
   "execution_count": 22,
   "metadata": {},
   "outputs": [
    {
     "data": {
      "text/html": [
       "<div>\n",
       "<style scoped>\n",
       "    .dataframe tbody tr th:only-of-type {\n",
       "        vertical-align: middle;\n",
       "    }\n",
       "\n",
       "    .dataframe tbody tr th {\n",
       "        vertical-align: top;\n",
       "    }\n",
       "\n",
       "    .dataframe thead th {\n",
       "        text-align: right;\n",
       "    }\n",
       "</style>\n",
       "<table border=\"1\" class=\"dataframe\">\n",
       "  <thead>\n",
       "    <tr style=\"text-align: right;\">\n",
       "      <th></th>\n",
       "      <th>Glucose</th>\n",
       "      <th>BloodPressure</th>\n",
       "      <th>SkinThickness</th>\n",
       "      <th>Insulin</th>\n",
       "      <th>BMI</th>\n",
       "      <th>DiabetesPedigreeFunction</th>\n",
       "      <th>Age</th>\n",
       "      <th>Outcome</th>\n",
       "    </tr>\n",
       "    <tr>\n",
       "      <th>Pregnancies</th>\n",
       "      <th></th>\n",
       "      <th></th>\n",
       "      <th></th>\n",
       "      <th></th>\n",
       "      <th></th>\n",
       "      <th></th>\n",
       "      <th></th>\n",
       "      <th></th>\n",
       "    </tr>\n",
       "  </thead>\n",
       "  <tbody>\n",
       "    <tr>\n",
       "      <th>6</th>\n",
       "      <td>148</td>\n",
       "      <td>72</td>\n",
       "      <td>35</td>\n",
       "      <td>0</td>\n",
       "      <td>33.6</td>\n",
       "      <td>0.627</td>\n",
       "      <td>50</td>\n",
       "      <td>1</td>\n",
       "    </tr>\n",
       "    <tr>\n",
       "      <th>1</th>\n",
       "      <td>85</td>\n",
       "      <td>66</td>\n",
       "      <td>29</td>\n",
       "      <td>0</td>\n",
       "      <td>26.6</td>\n",
       "      <td>0.351</td>\n",
       "      <td>31</td>\n",
       "      <td>0</td>\n",
       "    </tr>\n",
       "    <tr>\n",
       "      <th>8</th>\n",
       "      <td>183</td>\n",
       "      <td>64</td>\n",
       "      <td>0</td>\n",
       "      <td>0</td>\n",
       "      <td>23.3</td>\n",
       "      <td>0.672</td>\n",
       "      <td>32</td>\n",
       "      <td>1</td>\n",
       "    </tr>\n",
       "    <tr>\n",
       "      <th>1</th>\n",
       "      <td>89</td>\n",
       "      <td>66</td>\n",
       "      <td>23</td>\n",
       "      <td>94</td>\n",
       "      <td>28.1</td>\n",
       "      <td>0.167</td>\n",
       "      <td>21</td>\n",
       "      <td>0</td>\n",
       "    </tr>\n",
       "    <tr>\n",
       "      <th>5</th>\n",
       "      <td>116</td>\n",
       "      <td>74</td>\n",
       "      <td>0</td>\n",
       "      <td>0</td>\n",
       "      <td>25.6</td>\n",
       "      <td>0.201</td>\n",
       "      <td>30</td>\n",
       "      <td>0</td>\n",
       "    </tr>\n",
       "    <tr>\n",
       "      <th>...</th>\n",
       "      <td>...</td>\n",
       "      <td>...</td>\n",
       "      <td>...</td>\n",
       "      <td>...</td>\n",
       "      <td>...</td>\n",
       "      <td>...</td>\n",
       "      <td>...</td>\n",
       "      <td>...</td>\n",
       "    </tr>\n",
       "    <tr>\n",
       "      <th>10</th>\n",
       "      <td>101</td>\n",
       "      <td>76</td>\n",
       "      <td>48</td>\n",
       "      <td>180</td>\n",
       "      <td>32.9</td>\n",
       "      <td>0.171</td>\n",
       "      <td>63</td>\n",
       "      <td>0</td>\n",
       "    </tr>\n",
       "    <tr>\n",
       "      <th>2</th>\n",
       "      <td>122</td>\n",
       "      <td>70</td>\n",
       "      <td>27</td>\n",
       "      <td>0</td>\n",
       "      <td>36.8</td>\n",
       "      <td>0.340</td>\n",
       "      <td>27</td>\n",
       "      <td>0</td>\n",
       "    </tr>\n",
       "    <tr>\n",
       "      <th>5</th>\n",
       "      <td>121</td>\n",
       "      <td>72</td>\n",
       "      <td>23</td>\n",
       "      <td>112</td>\n",
       "      <td>26.2</td>\n",
       "      <td>0.245</td>\n",
       "      <td>30</td>\n",
       "      <td>0</td>\n",
       "    </tr>\n",
       "    <tr>\n",
       "      <th>1</th>\n",
       "      <td>126</td>\n",
       "      <td>60</td>\n",
       "      <td>0</td>\n",
       "      <td>0</td>\n",
       "      <td>30.1</td>\n",
       "      <td>0.349</td>\n",
       "      <td>47</td>\n",
       "      <td>1</td>\n",
       "    </tr>\n",
       "    <tr>\n",
       "      <th>1</th>\n",
       "      <td>93</td>\n",
       "      <td>70</td>\n",
       "      <td>31</td>\n",
       "      <td>0</td>\n",
       "      <td>30.4</td>\n",
       "      <td>0.315</td>\n",
       "      <td>23</td>\n",
       "      <td>0</td>\n",
       "    </tr>\n",
       "  </tbody>\n",
       "</table>\n",
       "<p>692 rows × 8 columns</p>\n",
       "</div>"
      ],
      "text/plain": [
       "             Glucose  BloodPressure  SkinThickness  Insulin   BMI  \\\n",
       "Pregnancies                                                         \n",
       "6                148             72             35        0  33.6   \n",
       "1                 85             66             29        0  26.6   \n",
       "8                183             64              0        0  23.3   \n",
       "1                 89             66             23       94  28.1   \n",
       "5                116             74              0        0  25.6   \n",
       "...              ...            ...            ...      ...   ...   \n",
       "10               101             76             48      180  32.9   \n",
       "2                122             70             27        0  36.8   \n",
       "5                121             72             23      112  26.2   \n",
       "1                126             60              0        0  30.1   \n",
       "1                 93             70             31        0  30.4   \n",
       "\n",
       "             DiabetesPedigreeFunction  Age  Outcome  \n",
       "Pregnancies                                          \n",
       "6                               0.627   50        1  \n",
       "1                               0.351   31        0  \n",
       "8                               0.672   32        1  \n",
       "1                               0.167   21        0  \n",
       "5                               0.201   30        0  \n",
       "...                               ...  ...      ...  \n",
       "10                              0.171   63        0  \n",
       "2                               0.340   27        0  \n",
       "5                               0.245   30        0  \n",
       "1                               0.349   47        1  \n",
       "1                               0.315   23        0  \n",
       "\n",
       "[692 rows x 8 columns]"
      ]
     },
     "execution_count": 22,
     "metadata": {},
     "output_type": "execute_result"
    }
   ],
   "source": [
    "# Using z-score\n",
    "\n",
    "diabetes_data[(np.abs(stats.zscore(diabetes_data)) < 3).all(axis=1)] \n",
    "\n",
    "# For each column, it first computes the Z-score of each value in the column, relative to the column mean and standard deviation.\n",
    "# It then takes the absolute Z-score because the direction does not matter, only if it is below the threshold.\n",
    "# all(axis=1) ensures that for each row, all column satisfy the constraint.\n",
    "# Finally, the result of this condition is used to index the dataframe.\n",
    "\n",
    "\n"
   ]
  },
  {
   "cell_type": "markdown",
   "metadata": {},
   "source": [
    "9. Let’s see if we can get a more accurate view of the missing values in the data.\n",
    "\n",
    "Use the following code to replace the instances of 0 with NaN in the five columns mentioned:\n",
    "\n",
    "diabetes_data[['Glucose','BloodPressure','SkinThickness','Insulin','BMI']] = diabetes_data[['Glucose','BloodPressure','SkinThickness','Insulin','BMI']].replace(0,np.NaN)\n",
    "\n"
   ]
  },
  {
   "cell_type": "code",
   "execution_count": 29,
   "metadata": {},
   "outputs": [],
   "source": [
    "diabetes_data[['Glucose','BloodPressure','SkinThickness','Insulin','BMI']] = diabetes_data[['Glucose','BloodPressure','SkinThickness','Insulin','BMI']].replace(0,np.NaN)"
   ]
  },
  {
   "cell_type": "code",
   "execution_count": null,
   "metadata": {},
   "outputs": [],
   "source": [
    "10. Next, check for missing (null) values in all of the columns just like you did in Step 5.\n",
    "Now how many missing values are there?\n",
    "\n"
   ]
  },
  {
   "cell_type": "code",
   "execution_count": 42,
   "metadata": {},
   "outputs": [
    {
     "name": "stdout",
     "output_type": "stream",
     "text": [
      "Glucose                       5\n",
      "BloodPressure                35\n",
      "SkinThickness               227\n",
      "Insulin                     374\n",
      "BMI                          11\n",
      "DiabetesPedigreeFunction      0\n",
      "Age                           0\n",
      "Outcome                       0\n",
      "dtype: int64\n",
      "Glucose                       5\n",
      "BloodPressure                35\n",
      "SkinThickness               227\n",
      "Insulin                     374\n",
      "BMI                          11\n",
      "DiabetesPedigreeFunction      0\n",
      "Age                           0\n",
      "Outcome                       0\n",
      "dtype: int64\n"
     ]
    }
   ],
   "source": [
    "print(diabetes_data.isna().sum()) \n"
   ]
  },
  {
   "cell_type": "markdown",
   "metadata": {},
   "source": [
    "11. Let’s take a closer look at these rows to get a better idea of why some data might be missing.\n",
    "Print out all of the rows that contain missing (null) values.\n",
    "\n",
    "\n"
   ]
  },
  {
   "cell_type": "code",
   "execution_count": 55,
   "metadata": {},
   "outputs": [
    {
     "name": "stdout",
     "output_type": "stream",
     "text": [
      "             Glucose  BloodPressure  SkinThickness  Insulin   BMI  \\\n",
      "Pregnancies                                                         \n",
      "6              148.0           72.0           35.0      NaN  33.6   \n",
      "1               85.0           66.0           29.0      NaN  26.6   \n",
      "8              183.0           64.0            NaN      NaN  23.3   \n",
      "5              116.0           74.0            NaN      NaN  25.6   \n",
      "10             115.0            NaN            NaN      NaN  35.3   \n",
      "...              ...            ...            ...      ...   ...   \n",
      "9              170.0           74.0           31.0      NaN  44.0   \n",
      "9               89.0           62.0            NaN      NaN  22.5   \n",
      "2              122.0           70.0           27.0      NaN  36.8   \n",
      "1              126.0           60.0            NaN      NaN  30.1   \n",
      "1               93.0           70.0           31.0      NaN  30.4   \n",
      "\n",
      "             DiabetesPedigreeFunction  Age  Outcome  \n",
      "Pregnancies                                          \n",
      "6                               0.627   50        1  \n",
      "1                               0.351   31        0  \n",
      "8                               0.672   32        1  \n",
      "5                               0.201   30        0  \n",
      "10                              0.134   29        0  \n",
      "...                               ...  ...      ...  \n",
      "9                               0.403   43        1  \n",
      "9                               0.142   33        0  \n",
      "2                               0.340   27        0  \n",
      "1                               0.349   47        1  \n",
      "1                               0.315   23        0  \n",
      "\n",
      "[376 rows x 8 columns]\n"
     ]
    }
   ],
   "source": [
    "\n",
    "null = diabetes_data.iloc[:, 0:5].isna() # crate a dataframe for null values (exclude the columns where no missing data occured)\n",
    "\n",
    "\n",
    "print(null)\n",
    "\n",
    "# print(diabetes_data[diabetes_data.isnull().any(axis=1)]) solution from codeacademy"
   ]
  },
  {
   "cell_type": "markdown",
   "metadata": {},
   "source": [
    "12. Go through the rows with missing data. Do you notice any patterns or overlaps between the missing data?\n",
    "\n",
    "One thing you might notice is that most rows with missing data have missing values in more than one column. In fact, every single row with at least one missing value also has a missing value in the insulin column. This is a clue as to why this data is missing! If patients did not have their insulin measured, why might they also not have had these other measurements taken?\n"
   ]
  },
  {
   "cell_type": "markdown",
   "metadata": {},
   "source": [
    "13. Next, take a closer look at the data types of each column in diabetes_data.\n",
    "\n"
   ]
  },
  {
   "cell_type": "code",
   "execution_count": 58,
   "metadata": {},
   "outputs": [
    {
     "name": "stdout",
     "output_type": "stream",
     "text": [
      "Glucose                     float64\n",
      "BloodPressure               float64\n",
      "SkinThickness               float64\n",
      "Insulin                     float64\n",
      "BMI                         float64\n",
      "DiabetesPedigreeFunction    float64\n",
      "Age                           int64\n",
      "Outcome                       int64\n",
      "dtype: object\n",
      "<class 'pandas.core.frame.DataFrame'>\n",
      "Int64Index: 768 entries, 6 to 1\n",
      "Data columns (total 8 columns):\n",
      " #   Column                    Non-Null Count  Dtype  \n",
      "---  ------                    --------------  -----  \n",
      " 0   Glucose                   763 non-null    float64\n",
      " 1   BloodPressure             733 non-null    float64\n",
      " 2   SkinThickness             541 non-null    float64\n",
      " 3   Insulin                   394 non-null    float64\n",
      " 4   BMI                       757 non-null    float64\n",
      " 5   DiabetesPedigreeFunction  768 non-null    float64\n",
      " 6   Age                       768 non-null    int64  \n",
      " 7   Outcome                   768 non-null    int64  \n",
      "dtypes: float64(6), int64(2)\n",
      "memory usage: 74.0 KB\n",
      "None\n"
     ]
    }
   ],
   "source": [
    "print(diabetes_data.dtypes)\n",
    "\n",
    "print(diabetes_data.info()) # outcome is an object"
   ]
  },
  {
   "cell_type": "code",
   "execution_count": 63,
   "metadata": {},
   "outputs": [
    {
     "ename": "SyntaxError",
     "evalue": "invalid syntax (<ipython-input-63-bf219bb87dc3>, line 1)",
     "output_type": "error",
     "traceback": [
      "\u001b[0;36m  File \u001b[0;32m\"<ipython-input-63-bf219bb87dc3>\"\u001b[0;36m, line \u001b[0;32m1\u001b[0m\n\u001b[0;31m    14. To figure out whym the Outcome column is of type object (string) instead of type int64, print out the unique values in the Outcome column.\u001b[0m\n\u001b[0m        ^\u001b[0m\n\u001b[0;31mSyntaxError\u001b[0m\u001b[0;31m:\u001b[0m invalid syntax\n"
     ]
    }
   ],
   "source": [
    "14. To figure out whym the Outcome column is of type object (string) instead of type int64, print out the unique values in the Outcome column.\n",
    "\n"
   ]
  },
  {
   "cell_type": "code",
   "execution_count": 64,
   "metadata": {},
   "outputs": [
    {
     "data": {
      "text/plain": [
       "2"
      ]
     },
     "execution_count": 64,
     "metadata": {},
     "output_type": "execute_result"
    }
   ],
   "source": [
    "diabetes_data['Outcome'].nunique() #binary "
   ]
  },
  {
   "cell_type": "markdown",
   "metadata": {},
   "source": [
    "15. How might you resolve this issue?\n"
   ]
  },
  {
   "cell_type": "code",
   "execution_count": 67,
   "metadata": {},
   "outputs": [
    {
     "name": "stdout",
     "output_type": "stream",
     "text": [
      "Glucose                     float64\n",
      "BloodPressure               float64\n",
      "SkinThickness               float64\n",
      "Insulin                     float64\n",
      "BMI                         float64\n",
      "DiabetesPedigreeFunction    float64\n",
      "Age                           int64\n",
      "Outcome                       int64\n",
      "dtype: object\n"
     ]
    }
   ],
   "source": [
    "pd.to_numeric(diabetes_data['Outcome'])\n",
    "print(diabetes_data.dtypes)\n"
   ]
  },
  {
   "cell_type": "markdown",
   "metadata": {},
   "source": [
    "16.Congratulations! In this project, you saw how EDA can help with the initial data inspection and cleaning process. This is an important step as it helps to keep your datasets clean and reliable.\n",
    "\n",
    "Here are some ways you might extend this project if you’d like:\n",
    "\n",
    "Use .value_counts() to more fully explore the values in each column.\n",
    "Investigate other outliers in the data that may be easily overlooked.\n",
    "Instead of changing the 0 values in the five columns to NaN, try replacing the values with the median or mean of each column."
   ]
  }
 ],
 "metadata": {
  "kernelspec": {
   "display_name": "Python 3",
   "language": "python",
   "name": "python3"
  },
  "language_info": {
   "codemirror_mode": {
    "name": "ipython",
    "version": 3
   },
   "file_extension": ".py",
   "mimetype": "text/x-python",
   "name": "python",
   "nbconvert_exporter": "python",
   "pygments_lexer": "ipython3",
   "version": "3.8.5"
  }
 },
 "nbformat": 4,
 "nbformat_minor": 4
}
