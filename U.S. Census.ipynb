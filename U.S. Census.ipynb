{
 "cells": [
  {
   "cell_type": "markdown",
   "metadata": {},
   "source": [
    "# Libraries "
   ]
  },
  {
   "cell_type": "code",
   "execution_count": 1,
   "metadata": {},
   "outputs": [],
   "source": [
    "\n",
    "import pandas as pd\n",
    "import numpy as np\n",
    "import matplotlib.pyplot as plt\n",
    "import seaborn # note that codeacademy uses 'codecademylib3_seaborn' which is basically the same\n",
    "import glob\n",
    "\n",
    "## make sure to install the libraries via terminal (pip install if they do not work in here:)"
   ]
  },
  {
   "cell_type": "code",
   "execution_count": 9,
   "metadata": {},
   "outputs": [
    {
     "ename": "NameError",
     "evalue": "name 'df' is not defined",
     "output_type": "error",
     "traceback": [
      "\u001b[0;31m---------------------------------------------------------------------------\u001b[0m",
      "\u001b[0;31mNameError\u001b[0m                                 Traceback (most recent call last)",
      "\u001b[0;32m<ipython-input-9-1b2cc57c8bb2>\u001b[0m in \u001b[0;36m<module>\u001b[0;34m\u001b[0m\n\u001b[1;32m     14\u001b[0m \u001b[0;34m\u001b[0m\u001b[0m\n\u001b[1;32m     15\u001b[0m \u001b[0;34m\u001b[0m\u001b[0m\n\u001b[0;32m---> 16\u001b[0;31m \u001b[0mprint\u001b[0m\u001b[0;34m(\u001b[0m\u001b[0mdf\u001b[0m\u001b[0;34m.\u001b[0m\u001b[0mhead\u001b[0m\u001b[0;34m(\u001b[0m\u001b[0;34m)\u001b[0m\u001b[0;34m)\u001b[0m\u001b[0;34m\u001b[0m\u001b[0;34m\u001b[0m\u001b[0m\n\u001b[0m\u001b[1;32m     17\u001b[0m \u001b[0;34m\u001b[0m\u001b[0m\n\u001b[1;32m     18\u001b[0m \u001b[0;34m\u001b[0m\u001b[0m\n",
      "\u001b[0;31mNameError\u001b[0m: name 'df' is not defined"
     ]
    }
   ],
   "source": [
    "# 2. Prepate the data\n",
    "\n",
    "## use glob to iterate over the csv files\n",
    "files =glob.glob(\"/Users/user/Projects_CodeAcademy/US_census_data-main/states*.csv\") \n",
    "## Tip: Make sure to store the excel files in your local directory and just copy the pathname here\n",
    "## The asterix * sign is a wildcard character that will extract all csv files with 'states' in their name\n",
    "\n",
    "##  create an empty list and for each file ('files') open the csv and then append the data to empty list\n",
    "us_census=[]\n",
    "for filename in files:\n",
    "    data = pd.read_csv(filename, index_col = 0)\n",
    "    us_census.append(data)\n",
    "    df = pd.concat(us_census)\n",
    "    \n",
    "    \n",
    "print(df.head())\n",
    "\n",
    "\n"
   ]
  },
  {
   "cell_type": "code",
   "execution_count": null,
   "metadata": {},
   "outputs": [],
   "source": [
    "# 3 Let's see how the columns look like and  what data types the dataframe holds\n",
    "print(df.columns)\n",
    "print(df.dtypes)\n",
    " "
   ]
  },
  {
   "cell_type": "code",
   "execution_count": null,
   "metadata": {},
   "outputs": [],
   "source": [
    "# 4 Look at the .head() of the DataFrame so that you can understand why some of these dtypes are objects instead of integers or floats.\n",
    "print(df.head())\n",
    "\n",
    "## -> Ethnic groups: we need to convert all ethinc groups into numeric values to be able to use them\n",
    "# -> Income: strip $ and convert to numeric\n",
    "# Gender: We can see that we need to split the column into two columns named \"m\" and \"f\" and convert the values to numeric\n",
    " "
   ]
  },
  {
   "cell_type": "code",
   "execution_count": null,
   "metadata": {},
   "outputs": [],
   "source": [
    "\n",
    "# 5 Use regex to turn the Income column into a format that is ready for conversion into a numerical type.\n",
    "# Create the 'income' column\n",
    "df.Income = df['Income'].replace('[\\$,]', '', regex=True)\n",
    "\n",
    "# Convert to numeric\n",
    "df.Income = pd.to_numeric(df.Income)\n",
    "df.Income = df.Income.round() # and round for easier read\n",
    "print(df.Income.head())\n"
   ]
  },
  {
   "cell_type": "code",
   "execution_count": null,
   "metadata": {},
   "outputs": [],
   "source": [
    "# 6. GenderPop: Split the gender column using split\n",
    "\n",
    "# First, let's look at the gender column\n",
    "#print(df['GenderPop'].head())\n",
    "\n",
    "# Second, let's split string in columns using the _ separator\n",
    "split_df = df['GenderPop'].str.split('(_)', expand=True)\n",
    "\n",
    "# print(split_df.head()) # We get three columns with relevant data in the first and third column\n",
    "\n",
    "# Third, we can assign columns from this DataFrame to the original df: \n",
    "df['Male_pop'] = split_df[0]\n",
    "df['Female_pop'] = split_df[2]\n",
    "\n",
    "#print(df['Female_pop'].head())\n",
    "#print(df['Male_pop'].head())\n",
    "\n",
    "# Make sure to strip of the M and F indicators\n",
    "\n",
    "df['Male_pop'] = df['Male_pop'].replace('[M,]', '', regex=True)\n",
    "df['Female_pop'] = df['Female_pop'].replace('[F,]', '', regex=True)\n",
    "\n",
    "print(df.Male_pop.head())\n",
    "print(df.Female_pop.head())"
   ]
  },
  {
   "cell_type": "code",
   "execution_count": null,
   "metadata": {},
   "outputs": [],
   "source": [
    "# 7 Convert to numeric variables\n",
    "df.Male_pop = pd.to_numeric(df.Male_pop)\n",
    "df.Female_pop = pd.to_numeric(df.Female_pop)\n",
    "\n",
    "# Make sure to drop the original GenderPop columm\n",
    "df = df.drop(['GenderPop'], axis = 1)\n",
    "\n",
    "print(df.head())\n"
   ]
  },
  {
   "cell_type": "code",
   "execution_count": null,
   "metadata": {},
   "outputs": [],
   "source": [
    "# 7 Convert to numeric variables\n",
    "df.Male_pop = pd.to_numeric(df.Male_pop)\n",
    "df.Female_pop = pd.to_numeric(df.Female_pop)\n",
    "\n",
    "# Make sure to drop the original GenderPop columm\n",
    "#df = df.drop(['GenderPop'], axis = 1)\n",
    "\n",
    "print(df.head())\n",
    "\n",
    "\n"
   ]
  },
  {
   "cell_type": "code",
   "execution_count": null,
   "metadata": {},
   "outputs": [],
   "source": [
    "# 8 Make a scatter plot\n",
    "\n",
    "# The instructions are not really clear here. Plotting Income vs Population does not make whole lot of sense\n",
    "\n",
    "# Good to convert the axis for easier readability \n",
    "df['Female_pop'] = df['Female_pop'].div(100).round(1)\n",
    "# print(df['Female_pop'].head())\n",
    "\n",
    "ax = df.plot(x='Female_pop', y='Income', style='o')\n",
    "\n",
    "# set the labels \n",
    "ax.set_xlabel(\"Female population in hundreds\")\n",
    "ax.set_ylabel(\"Income\")\n",
    "\n",
    "\n"
   ]
  },
  {
   "cell_type": "code",
   "execution_count": null,
   "metadata": {},
   "outputs": [],
   "source": [
    "\n",
    "# 9 Deal with missing values\n",
    "print(df.Female_pop.isna().sum())\n",
    "print(df.Male_pop.isna().sum())\n",
    "## only missings for female pop\n",
    "\n",
    "df['Female_pop'] = df['Female_pop'].fillna((df.TotalPop - df.Male_pop)/(100))\n",
    "\n",
    "print(df['Female_pop'])\n",
    "# print(df['Female_pop'].isna().sum()) # 0 missings now"
   ]
  },
  {
   "cell_type": "code",
   "execution_count": null,
   "metadata": {},
   "outputs": [],
   "source": [
    "# 10 Deal with the duplicates\n",
    "df = df.drop_duplicates(subset=None, keep='first', inplace=False)\n",
    "\n",
    "print(df.shape)\n",
    "# now rows: 51 and 11 columns \n"
   ]
  },
  {
   "cell_type": "code",
   "execution_count": null,
   "metadata": {},
   "outputs": [],
   "source": [
    "# 12 Make a scatter plot again\n",
    "\n",
    "## Again not really meaningful to plot this type of data\n",
    "\n",
    "ax = df.plot(x='Female_pop', y='Income', style='o')\n",
    "\n",
    "# set the labels \n",
    "ax.set_xlabel(\"Female population in hundreds\")\n",
    "ax.set_ylabel(\"Income\")\n"
   ]
  },
  {
   "cell_type": "code",
   "execution_count": null,
   "metadata": {},
   "outputs": [],
   "source": [
    "# 13. Make histograms using the columns for ethnicity \n",
    "\n",
    "# Make a column object to have a look at the relevant columns\n",
    "columnSeriesObj = df[['Hispanic', 'White', 'Black', 'Native', 'Asian', 'Pacific']]\n",
    "for column in columnSeriesObj:\n",
    "   # Select column contents by column name using [] operator\n",
    "   print('Colunm Name : ', column)\n",
    "   print('Column Contents : ', df.values)\n",
    "\n"
   ]
  },
  {
   "cell_type": "code",
   "execution_count": null,
   "metadata": {},
   "outputs": [],
   "source": [
    "# 14 Histograms and dealing with some more missing data\n",
    "\n",
    "# Strip of the % signs in each column and round the numbers\n",
    "for col in df[['Hispanic', 'White', 'Black', 'Native', 'Asian', 'Pacific']]:\n",
    "    df[col] = df[col].replace('[\\%,]', '', regex=True)\n",
    "    df[col] = df[col].apply(pd.to_numeric, errors='coerce')\n",
    "    df[col] = df[col].round(1)\n",
    "    \n",
    "# Any missings?\n",
    "print(df.Pacific.isna().sum()) ## 4 missings\n",
    "\n",
    "\n",
    "# Fill the missings\n",
    "df['Pacific'] = df['Pacific'].fillna((df.TotalPop - df.Hispanic - df.White - df.Black - df.Native - df.Asian))\n",
    "#print(df['Pacific'].head())\n",
    "\n",
    "# print(df['Pacific'].isna().sum())\n"
   ]
  },
  {
   "cell_type": "code",
   "execution_count": null,
   "metadata": {},
   "outputs": [],
   "source": [
    "# Deal  with duplicates\n",
    "df = df.drop_duplicates(subset=None, keep='first', inplace=False)\n",
    "\n",
    "# Histogram\n",
    "df.plot(x='State', y='Hispanic', kind='bar', legend=False)\n",
    "\n",
    "# Let's look at the states only where we have over than 30% of hispanics\n",
    "\n",
    "ax1 = df.plot(x='State', y='Hispanic', kind='bar', legend=False)\n",
    "ax1.set_ylim(30,100)\n",
    "plt.show()"
   ]
  },
  {
   "cell_type": "code",
   "execution_count": null,
   "metadata": {},
   "outputs": [],
   "source": [
    "# 15  Importing some more libraries for the extra analysis\n",
    "\n",
    "import geopandas\n",
    "\n",
    "# Use the geopandas.read_file() function to read the shapefile from disk. Geopandas will return a GeoDataFrame object which is similar to a pandas DataFrame.\n",
    "\n",
    "states = geopandas.read_file('/Users/user/Projects_CodeAcademy/geopandas-tutorial-master/data/usa-states-census-2014.shp')\n",
    "type(states)\n",
    "#geopandas.geodataframe.GeoDataFrame\n",
    "states.head()\n",
    "states.plot()\n",
    "\n",
    "\n",
    "\n",
    "states.plot(cmap='magma', figsize=(12, 12))\n",
    "\n",
    "# 1. Make stacked bar chart that shows the ratio of females to males in each state\n",
    "\n",
    "\n",
    "# 2. Show the three biggest ethnic groups per state\n",
    "\n",
    "\n",
    "# 3. Let's see if higher income is correlated with a broader mix of ethnic groups?\n",
    "\n",
    "\n"
   ]
  },
  {
   "cell_type": "code",
   "execution_count": null,
   "metadata": {},
   "outputs": [],
   "source": []
  }
 ],
 "metadata": {
  "kernelspec": {
   "display_name": "Python 3",
   "language": "python",
   "name": "python3"
  },
  "language_info": {
   "codemirror_mode": {
    "name": "ipython",
    "version": 3
   },
   "file_extension": ".py",
   "mimetype": "text/x-python",
   "name": "python",
   "nbconvert_exporter": "python",
   "pygments_lexer": "ipython3",
   "version": "3.8.5"
  }
 },
 "nbformat": 4,
 "nbformat_minor": 4
}
