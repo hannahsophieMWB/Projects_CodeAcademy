{
 "cells": [
  {
   "cell_type": "markdown",
   "metadata": {},
   "source": [
    "## U.S. Cost data"
   ]
  },
  {
   "cell_type": "code",
   "execution_count": 4,
   "metadata": {},
   "outputs": [
    {
     "name": "stdout",
     "output_type": "stream",
     "text": [
      "   Provider CCN                       Hospital Name        Street Address  \\\n",
      "0        510013          REYNOLDS MEMORIAL HOSPITAL   800 WHEELING AVENUE   \n",
      "1        340106   SANDHILLS REGIONAL MEDICAL CENTER  1000 WEST HAMLET AVE   \n",
      "2        450178      PECOS COUNTY MEMORIAL HOSPITAL           386 W IH-10   \n",
      "3        341317    PIONEER HLTH SERV OF STOKES CNTY      1570 NC & 89 HWY   \n",
      "4        110003  MAYO CLINIC HEALTH SYSTEM WAYCROSS    1900 TEBEAU STREET   \n",
      "\n",
      "            City State Code Zip Code    County  Medicare CBSA Number  \\\n",
      "0      GLEN DALE         WV    26038  MARSHALL               48540.0   \n",
      "1         HAMLET         NC    28345  RICHMOND               99934.0   \n",
      "2  FORT STOCKTON         TX    79735     PECOS               99945.0   \n",
      "3        DANBURY         NC    27016    STOKES               49180.0   \n",
      "4       WAYCROSS         GA    31501      WARE               99911.0   \n",
      "\n",
      "  Rural Versus Urban CCN Facility Type  ...  Total Other Income  Total Income  \\\n",
      "0                  U               STH  ...          $4,492,364    $2,638,799   \n",
      "1                  R               STH  ...             $31,174   -$1,114,660   \n",
      "2                  R               STH  ...          $2,096,862      $576,278   \n",
      "3                  U               CAH  ...          $1,542,201      $640,268   \n",
      "4                  R               STH  ...            $224,757   -$6,170,184   \n",
      "\n",
      "  Total Other Expenses   Net Income  Cost To Charge Ratio  \\\n",
      "0                  NaN   $2,638,799              0.453498   \n",
      "1                  NaN  -$1,114,660              0.173114   \n",
      "2                  NaN     $576,278              0.455741   \n",
      "3             $622,592      $17,676              1.154767   \n",
      "4                  NaN  -$6,170,184              0.271734   \n",
      "\n",
      "   Net Revenue from Medicaid  Medicaid Charges  \\\n",
      "0                 $1,237,912        $4,026,663   \n",
      "1                   $391,215        $4,981,119   \n",
      "2                   $719,760        $1,275,211   \n",
      "3                   $578,366          $801,800   \n",
      "4                 $3,113,423       $11,231,324   \n",
      "\n",
      "   Net Revenue from Stand-Alone SCHIP  Stand-Alone SCHIP Charges  rpt_rec_num  \n",
      "0                                 NaN                        NaN       599181  \n",
      "1                                 NaN                        NaN       601095  \n",
      "2                                 NaN                        NaN       601392  \n",
      "3                            $159,516                   $702,117       601721  \n",
      "4                              $1,331                     $8,211       603846  \n",
      "\n",
      "[5 rows x 128 columns]\n"
     ]
    }
   ],
   "source": [
    "import pandas as pd \n",
    "from matplotlib import pyplot as plt\n",
    "\n",
    "\n",
    "cp_data = pd.read_csv(\"CostReport_2017_Final_Sep2020.csv\") \n",
    "\n",
    "print(cp_data.head())\n",
    "\n"
   ]
  },
  {
   "cell_type": "code",
   "execution_count": null,
   "metadata": {},
   "outputs": [],
   "source": []
  }
 ],
 "metadata": {
  "kernelspec": {
   "display_name": "Python 3",
   "language": "python",
   "name": "python3"
  },
  "language_info": {
   "codemirror_mode": {
    "name": "ipython",
    "version": 3
   },
   "file_extension": ".py",
   "mimetype": "text/x-python",
   "name": "python",
   "nbconvert_exporter": "python",
   "pygments_lexer": "ipython3",
   "version": "3.8.5"
  }
 },
 "nbformat": 4,
 "nbformat_minor": 4
}
