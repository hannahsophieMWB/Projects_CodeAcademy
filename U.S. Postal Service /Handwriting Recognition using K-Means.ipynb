{
 "cells": [
  {
   "cell_type": "markdown",
   "id": "d92403f7",
   "metadata": {},
   "source": [
    "# Handwriting Recognition using K-Means\n",
    "\n",
    "The U.S. Postal Service has been using machine learning and scanning technologies since 1999. Because its postal offices have to look at roughly half a billion pieces of mail every day, they have done extensive research and developed very efficient algorithms for reading and understanding addresses. And not only the post office:\n",
    "\n",
    "ATMs can recognize handwritten bank checks\n",
    "Evernote can recognize handwritten task lists\n",
    "Expensify can recognize handwritten receipts\n",
    "But how do they do it?\n",
    "\n",
    "In this project, you will be using K-means clustering (the algorithm behind this magic) and scikit-learn to cluster images of handwritten digits.\n",
    "\n"
   ]
  },
  {
   "cell_type": "code",
   "execution_count": 3,
   "id": "c6c683af",
   "metadata": {},
   "outputs": [],
   "source": [
    "# import libraries\n",
    "import seaborn as sns \n",
    "import numpy as np\n",
    "from matplotlib import pyplot as plt\n",
    "from sklearn import datasets "
   ]
  },
  {
   "cell_type": "markdown",
   "id": "34605ca7",
   "metadata": {},
   "source": [
    "## 1. Getting Started with the Digits Dataset:\n",
    "\n",
    "\n",
    "From sklearn library, import the datasets module.\n",
    "\n",
    "Then, load in the digits data using .load_digits() and print digits."
   ]
  },
  {
   "cell_type": "code",
   "execution_count": 5,
   "id": "76c8de2b",
   "metadata": {},
   "outputs": [],
   "source": [
    "digits = datasets.load_digits()\n",
    "# print(digits)"
   ]
  },
  {
   "cell_type": "code",
   "execution_count": null,
   "id": "e33866b7",
   "metadata": {},
   "outputs": [],
   "source": []
  },
  {
   "cell_type": "code",
   "execution_count": null,
   "id": "7920ac29",
   "metadata": {},
   "outputs": [],
   "source": []
  },
  {
   "cell_type": "code",
   "execution_count": null,
   "id": "a58924d6",
   "metadata": {},
   "outputs": [],
   "source": [
    "When first starting out with a dataset, it’s always a good idea to go through the data description and see what you can already learn.\n",
    "\n",
    "Instead of printing the digits, print digits.DESCR.\n",
    "\n",
    "What is the size of an image (in pixel)?\n",
    "Where is this dataset from?"
   ]
  }
 ],
 "metadata": {
  "kernelspec": {
   "display_name": "Python 3 (ipykernel)",
   "language": "python",
   "name": "python3"
  },
  "language_info": {
   "codemirror_mode": {
    "name": "ipython",
    "version": 3
   },
   "file_extension": ".py",
   "mimetype": "text/x-python",
   "name": "python",
   "nbconvert_exporter": "python",
   "pygments_lexer": "ipython3",
   "version": "3.9.9"
  }
 },
 "nbformat": 4,
 "nbformat_minor": 5
}
